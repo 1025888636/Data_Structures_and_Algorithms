{
 "cells": [
  {
   "cell_type": "markdown",
   "metadata": {},
   "source": [
    "# 绪论"
   ]
  },
  {
   "cell_type": "markdown",
   "metadata": {},
   "source": [
    "## 计算机问题求解"
   ]
  },
  {
   "cell_type": "markdown",
   "metadata": {},
   "source": [
    "### 程序开发过程"
   ]
  },
  {
   "cell_type": "markdown",
   "metadata": {},
   "source": [
    "分析阶段：问题具体化，严格描述，即需求分析  \n",
    "设计阶段：数据与算法  \n",
    "编码阶段：主要包含两个方面，一是通过编程语言的各种数据机制来实现抽象模型中的数据结构，二是用语言的命令和控制结构实现解决问题的算法  \n",
    "检查测试阶段：程序员代码——检查编译——可运行程序——测试调试（运行若有错误，确定原因，进行调整）\n"
   ]
  },
  {
   "cell_type": "markdown",
   "metadata": {},
   "source": [
    "### 一个例子"
   ]
  },
  {
   "cell_type": "markdown",
   "metadata": {},
   "source": [
    "求任一非负实数的平方根  \n",
    "是描述性的，需要严格化：对任意非负实数x，设法找到一个非负实数y，使得|yxy-x|<e，  \n",
    "其中e是事先给定的误差  \n",
    "这就有了严格的描述，但是是说明性的，没有告诉如何得到这个结果  \n",
    "*牛顿迭代法：  \n",
    "0.对于给定实数x和误差e，令变量y取任意正实数值，如y=%x  \n",
    "1.如果|y*y-x|<e，计算结果并把y作为结果  \n",
    "2.取z=（y+x/y）/2  \n",
    "3.将z作为y的新值，回到步骤1"
   ]
  },
  {
   "cell_type": "code",
   "execution_count": 3,
   "metadata": {},
   "outputs": [
    {
     "data": {
      "text/plain": [
       "3.162277665175675"
      ]
     },
     "execution_count": 3,
     "metadata": {},
     "output_type": "execute_result"
    }
   ],
   "source": [
    "def sqrt(x):\n",
    "    y = 1.0\n",
    "    while abs(y*y - x) > 1e-6:\n",
    "        z = (y + x/y)/2\n",
    "        y = z\n",
    "    return y\n",
    "sqrt(10)"
   ]
  },
  {
   "cell_type": "markdown",
   "metadata": {},
   "source": [
    "## 问题求解：交叉路口的红绿灯安排"
   ]
  },
  {
   "cell_type": "markdown",
   "metadata": {},
   "source": [
    "图与贪婪算法"
   ]
  },
  {
   "cell_type": "markdown",
   "metadata": {},
   "source": [
    "## 算法和算法分析"
   ]
  },
  {
   "cell_type": "markdown",
   "metadata": {},
   "source": [
    "### 算法的性质"
   ]
  },
  {
   "cell_type": "markdown",
   "metadata": {},
   "source": [
    "算法是解决特定问题步骤的描述，在计算机中表现为指令的有限操作，每条指令表示一个或多个操作\n",
    "* 有穷性  \n",
    "* 可行性 \n",
    "* 确定性  \n",
    "* 终止性  \n",
    "* 有输入输出"
   ]
  },
  {
   "cell_type": "markdown",
   "metadata": {},
   "source": [
    "### 算法设计与分析"
   ]
  },
  {
   "cell_type": "markdown",
   "metadata": {},
   "source": [
    "1.算法设计的要求  \n",
    "* 正确性  \n",
    "* 健壮性  \n",
    "* 可读性  \n",
    "* 时间效率高和存储量低  \n",
    "  \n",
    "\n",
    "2.方法\n",
    "* 穷举法  \n",
    "* 动态规划法  \n",
    "* 分治法  \n",
    "* 贪心法  \n",
    "* 回溯法  \n",
    "* 分支界限法"
   ]
  },
  {
   "cell_type": "markdown",
   "metadata": {},
   "source": [
    "### 算法分析"
   ]
  },
  {
   "cell_type": "markdown",
   "metadata": {},
   "source": [
    "时间开销：时间复杂度  \n",
    "空间开销：python少用全局变量"
   ]
  },
  {
   "cell_type": "markdown",
   "metadata": {},
   "source": [
    "## 数据结构"
   ]
  },
  {
   "cell_type": "markdown",
   "metadata": {},
   "source": [
    "### 数据结构及其分类"
   ]
  },
  {
   "cell_type": "markdown",
   "metadata": {},
   "source": [
    "* 数据：能被计算机识别并输入计算机处理的符号集合  \n",
    "* 数据元素：组成数据的具有一定意义的基本单位，在计算机中通常作为整体处理  \n",
    "* 数据项：一个数据元素可由多个数据项组成。数据项是数据不可分割的最小单位  \n",
    "* 数据对象：同类数据元素的集合  \n",
    "* 数据结构： 相互存在一种或多种特定关键的数据元素的集合"
   ]
  },
  {
   "cell_type": "markdown",
   "metadata": {},
   "source": [
    "### 逻辑结构与物理结构"
   ]
  },
  {
   "cell_type": "markdown",
   "metadata": {},
   "source": [
    "* 逻辑结构：数据对象中数据元素直接的相互关系  \n",
    "1.集合结构  \n",
    "2.线性结构  \n",
    "3.树形结构  \n",
    "4.图形结构 \n",
    "  \n",
    "*  物理结构（即存储结构）：数据的逻辑结构在计算机中的存储形式  \n",
    "1.顺序存储结构  \n",
    "2.链式存储结构  \n",
    "\n"
   ]
  }
 ],
 "metadata": {
  "kernelspec": {
   "display_name": "Python 3",
   "language": "python",
   "name": "python3"
  },
  "language_info": {
   "codemirror_mode": {
    "name": "ipython",
    "version": 3
   },
   "file_extension": ".py",
   "mimetype": "text/x-python",
   "name": "python",
   "nbconvert_exporter": "python",
   "pygments_lexer": "ipython3",
   "version": "3.6.2"
  },
  "toc": {
   "base_numbering": 1,
   "nav_menu": {},
   "number_sections": true,
   "sideBar": true,
   "skip_h1_title": false,
   "title_cell": "Table of Contents",
   "title_sidebar": "Contents",
   "toc_cell": false,
   "toc_position": {},
   "toc_section_display": true,
   "toc_window_display": false
  }
 },
 "nbformat": 4,
 "nbformat_minor": 2
}
